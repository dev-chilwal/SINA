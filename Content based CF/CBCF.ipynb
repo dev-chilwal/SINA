{
 "cells": [
  {
   "cell_type": "code",
   "execution_count": 41,
   "metadata": {},
   "outputs": [],
   "source": [
    "#Import packages\n",
    "\n",
    "import pandas as pd\n",
    "from sklearn.feature_extraction.text import TfidfVectorizer\n",
    "from sklearn.metrics.pairwise import linear_kernel\n",
    "from gensim.models import Word2Vec\n",
    "import geopy.distance\n",
    "from geopy import Nominatim\n",
    "from tqdm import tqdm\n",
    "from geopy.extra.rate_limiter import RateLimiter"
   ]
  },
  {
   "cell_type": "code",
   "execution_count": 71,
   "metadata": {},
   "outputs": [],
   "source": [
    "# load data\n",
    "\n",
    "checkin= pd.read_csv('/home/ubuntu/sina/checkins.txt', sep='\\t')\n",
    "checkin.head()\n",
    "\n",
    "#rename columns\n",
    "checkin.columns = ['userID', 'tweetID', 'latitude',\n",
    "                   'longitude', 'time', 'placeID', 'contentInfo']\n",
    "\n",
    "#replace | with spaces\n",
    "checkin['contentInfo'] = [w.replace('|', ' ') for w in checkin['contentInfo']]\n"
   ]
  },
  {
   "cell_type": "code",
   "execution_count": 131,
   "metadata": {},
   "outputs": [],
   "source": [
    "#load train data\n",
    "train = pd.read_csv('/home/ubuntu/sina/Foursquare_train.txt', header=None, names = ['userID', 'placeID','freq'], sep='\\t')"
   ]
  },
  {
   "cell_type": "code",
   "execution_count": 73,
   "metadata": {},
   "outputs": [
    {
     "data": {
      "text/html": [
       "<div>\n",
       "<style scoped>\n",
       "    .dataframe tbody tr th:only-of-type {\n",
       "        vertical-align: middle;\n",
       "    }\n",
       "\n",
       "    .dataframe tbody tr th {\n",
       "        vertical-align: top;\n",
       "    }\n",
       "\n",
       "    .dataframe thead th {\n",
       "        text-align: right;\n",
       "    }\n",
       "</style>\n",
       "<table border=\"1\" class=\"dataframe\">\n",
       "  <thead>\n",
       "    <tr style=\"text-align: right;\">\n",
       "      <th></th>\n",
       "      <th>userID</th>\n",
       "      <th>placeID</th>\n",
       "      <th>freq</th>\n",
       "    </tr>\n",
       "  </thead>\n",
       "  <tbody>\n",
       "    <tr>\n",
       "      <th>0</th>\n",
       "      <td>16</td>\n",
       "      <td>193</td>\n",
       "      <td>13</td>\n",
       "    </tr>\n",
       "    <tr>\n",
       "      <th>1</th>\n",
       "      <td>16</td>\n",
       "      <td>194</td>\n",
       "      <td>4</td>\n",
       "    </tr>\n",
       "    <tr>\n",
       "      <th>2</th>\n",
       "      <td>16</td>\n",
       "      <td>197</td>\n",
       "      <td>1</td>\n",
       "    </tr>\n",
       "    <tr>\n",
       "      <th>3</th>\n",
       "      <td>16</td>\n",
       "      <td>198</td>\n",
       "      <td>3</td>\n",
       "    </tr>\n",
       "    <tr>\n",
       "      <th>4</th>\n",
       "      <td>16</td>\n",
       "      <td>199</td>\n",
       "      <td>2</td>\n",
       "    </tr>\n",
       "  </tbody>\n",
       "</table>\n",
       "</div>"
      ],
      "text/plain": [
       "   userID  placeID  freq\n",
       "0      16      193    13\n",
       "1      16      194     4\n",
       "2      16      197     1\n",
       "3      16      198     3\n",
       "4      16      199     2"
      ]
     },
     "execution_count": 73,
     "metadata": {},
     "output_type": "execute_result"
    }
   ],
   "source": [
    "train.head()"
   ]
  },
  {
   "cell_type": "code",
   "execution_count": 74,
   "metadata": {},
   "outputs": [],
   "source": [
    "# merge train data to get contentInfo\n",
    "train_poi = train.merge(checkin[['userID', 'placeID', 'contentInfo']], on = ['userID', 'placeID'], how='left')"
   ]
  },
  {
   "cell_type": "code",
   "execution_count": 75,
   "metadata": {},
   "outputs": [
    {
     "data": {
      "text/html": [
       "<div>\n",
       "<style scoped>\n",
       "    .dataframe tbody tr th:only-of-type {\n",
       "        vertical-align: middle;\n",
       "    }\n",
       "\n",
       "    .dataframe tbody tr th {\n",
       "        vertical-align: top;\n",
       "    }\n",
       "\n",
       "    .dataframe thead th {\n",
       "        text-align: right;\n",
       "    }\n",
       "</style>\n",
       "<table border=\"1\" class=\"dataframe\">\n",
       "  <thead>\n",
       "    <tr style=\"text-align: right;\">\n",
       "      <th></th>\n",
       "      <th>userID</th>\n",
       "      <th>placeID</th>\n",
       "      <th>freq</th>\n",
       "      <th>contentInfo</th>\n",
       "    </tr>\n",
       "  </thead>\n",
       "  <tbody>\n",
       "    <tr>\n",
       "      <th>0</th>\n",
       "      <td>16</td>\n",
       "      <td>193</td>\n",
       "      <td>13</td>\n",
       "      <td>ice cream shop shops</td>\n",
       "    </tr>\n",
       "    <tr>\n",
       "      <th>1</th>\n",
       "      <td>16</td>\n",
       "      <td>193</td>\n",
       "      <td>13</td>\n",
       "      <td>ice cream shop shops</td>\n",
       "    </tr>\n",
       "    <tr>\n",
       "      <th>2</th>\n",
       "      <td>16</td>\n",
       "      <td>193</td>\n",
       "      <td>13</td>\n",
       "      <td>ice cream shop shops</td>\n",
       "    </tr>\n",
       "    <tr>\n",
       "      <th>3</th>\n",
       "      <td>16</td>\n",
       "      <td>193</td>\n",
       "      <td>13</td>\n",
       "      <td>ice cream shop shops</td>\n",
       "    </tr>\n",
       "    <tr>\n",
       "      <th>4</th>\n",
       "      <td>16</td>\n",
       "      <td>193</td>\n",
       "      <td>13</td>\n",
       "      <td>ice cream shop shops</td>\n",
       "    </tr>\n",
       "  </tbody>\n",
       "</table>\n",
       "</div>"
      ],
      "text/plain": [
       "   userID  placeID  freq            contentInfo\n",
       "0      16      193    13  ice cream shop shops \n",
       "1      16      193    13  ice cream shop shops \n",
       "2      16      193    13  ice cream shop shops \n",
       "3      16      193    13  ice cream shop shops \n",
       "4      16      193    13  ice cream shop shops "
      ]
     },
     "execution_count": 75,
     "metadata": {},
     "output_type": "execute_result"
    }
   ],
   "source": [
    "train_poi.head()"
   ]
  },
  {
   "cell_type": "code",
   "execution_count": 118,
   "metadata": {},
   "outputs": [],
   "source": [
    "# read in test and tune datasets\n",
    "test = pd.read_csv('/home/ubuntu/sina/Foursquare_test.txt', header=None, names = ['userID', 'placeID','freq'], sep='\\t')\n",
    "tune = pd.read_csv('/home/ubuntu/sina/Foursquare_tune.txt', sep='\\t')"
   ]
  },
  {
   "cell_type": "code",
   "execution_count": 120,
   "metadata": {},
   "outputs": [],
   "source": [
    "# combine test and tune data\n",
    "test_poi = test.append(tune,ignore_index=True)"
   ]
  },
  {
   "cell_type": "code",
   "execution_count": 119,
   "metadata": {},
   "outputs": [
    {
     "data": {
      "text/html": [
       "<div>\n",
       "<style scoped>\n",
       "    .dataframe tbody tr th:only-of-type {\n",
       "        vertical-align: middle;\n",
       "    }\n",
       "\n",
       "    .dataframe tbody tr th {\n",
       "        vertical-align: top;\n",
       "    }\n",
       "\n",
       "    .dataframe thead th {\n",
       "        text-align: right;\n",
       "    }\n",
       "</style>\n",
       "<table border=\"1\" class=\"dataframe\">\n",
       "  <thead>\n",
       "    <tr style=\"text-align: right;\">\n",
       "      <th></th>\n",
       "      <th>userID</th>\n",
       "      <th>placeID</th>\n",
       "      <th>count</th>\n",
       "    </tr>\n",
       "  </thead>\n",
       "  <tbody>\n",
       "    <tr>\n",
       "      <th>0</th>\n",
       "      <td>16</td>\n",
       "      <td>206</td>\n",
       "      <td>1</td>\n",
       "    </tr>\n",
       "    <tr>\n",
       "      <th>1</th>\n",
       "      <td>16</td>\n",
       "      <td>210</td>\n",
       "      <td>4</td>\n",
       "    </tr>\n",
       "    <tr>\n",
       "      <th>2</th>\n",
       "      <td>16</td>\n",
       "      <td>211</td>\n",
       "      <td>2</td>\n",
       "    </tr>\n",
       "    <tr>\n",
       "      <th>3</th>\n",
       "      <td>16</td>\n",
       "      <td>214</td>\n",
       "      <td>1</td>\n",
       "    </tr>\n",
       "    <tr>\n",
       "      <th>4</th>\n",
       "      <td>16</td>\n",
       "      <td>222</td>\n",
       "      <td>1</td>\n",
       "    </tr>\n",
       "  </tbody>\n",
       "</table>\n",
       "</div>"
      ],
      "text/plain": [
       "   userID  placeID  count\n",
       "0      16      206      1\n",
       "1      16      210      4\n",
       "2      16      211      2\n",
       "3      16      214      1\n",
       "4      16      222      1"
      ]
     },
     "execution_count": 119,
     "metadata": {},
     "output_type": "execute_result"
    }
   ],
   "source": [
    "tune.head()"
   ]
  },
  {
   "cell_type": "markdown",
   "metadata": {},
   "source": [
    "## Content Based Recommendation"
   ]
  },
  {
   "cell_type": "code",
   "execution_count": 79,
   "metadata": {},
   "outputs": [],
   "source": [
    "# aggregate content information by places\n",
    "\n",
    "train_poi = train_poi.groupby('placeID').agg({'contentInfo': ' '.join}).reset_index()"
   ]
  },
  {
   "cell_type": "code",
   "execution_count": 80,
   "metadata": {},
   "outputs": [],
   "source": [
    "# clean content data to remove duplicates\n",
    "from collections import OrderedDict\n",
    "\n",
    "train_poi['cleanContent'] = (train_poi['contentInfo'].str.split()\n",
    "                              .apply(lambda x: OrderedDict.fromkeys(x).keys())\n",
    "                              .str.join(' '))"
   ]
  },
  {
   "cell_type": "code",
   "execution_count": 81,
   "metadata": {},
   "outputs": [
    {
     "data": {
      "text/plain": [
       "(16289, 143387)"
      ]
     },
     "execution_count": 81,
     "metadata": {},
     "output_type": "execute_result"
    }
   ],
   "source": [
    "# Create tf-Idf matrix\n",
    "\n",
    "tf = TfidfVectorizer(analyzer='word', ngram_range=(1, 3),\n",
    "                     min_df=1, stop_words='english')\n",
    "\n",
    "tfidf_matrix = tf.fit_transform(train_poi['cleanContent'])\n"
   ]
  },
  {
   "cell_type": "code",
   "execution_count": 82,
   "metadata": {},
   "outputs": [],
   "source": [
    "#Calculate cosine similarity for POIs\n",
    "\n",
    "cosine_similarities = linear_kernel(tfidf_matrix, tfidf_matrix)"
   ]
  },
  {
   "cell_type": "code",
   "execution_count": 84,
   "metadata": {},
   "outputs": [],
   "source": [
    "# reset index\n",
    "train_poi = train_poi.reset_index(drop=True)"
   ]
  },
  {
   "cell_type": "code",
   "execution_count": 85,
   "metadata": {},
   "outputs": [],
   "source": [
    "# Find 20 similar POIs for each place\n",
    "\n",
    "results = {}\n",
    "for idx, row in train_poi.iterrows():\n",
    "    similar_indices = cosine_similarities[idx].argsort()[:-20:-1]\n",
    "    similar_items = [(cosine_similarities[idx][i], train_poi['placeID'][i]) for i in similar_indices]\n",
    "    results[row['placeID']] = similar_items[1:]"
   ]
  },
  {
   "cell_type": "code",
   "execution_count": 86,
   "metadata": {},
   "outputs": [],
   "source": [
    "# create a function to recommend POIs using similarity matrix\n",
    "def item(id):  \n",
    "  return train_poi.loc[train_poi['placeID'] == id]['contentInfo'].tolist()[0].split(' - ')[0] \n",
    "\n",
    "\n",
    "# Just reads the results out of the dictionary.def \n",
    "def recommend(item_id, num):\n",
    "    print(\"Recommending \" + str(num) + \" products similar to \" + str(item_id) + \"...\")   \n",
    "    print(\"-------\")\n",
    "    recs = results[item_id][:num]   \n",
    "    for rec in recs: \n",
    "       print(\"Recommended: \" + str(rec[1]) + \n",
    "             #\" \"+ item(rec[1]) +\n",
    "             \" (score:\" +      str(rec[0]) + \")\")\n"
   ]
  },
  {
   "cell_type": "code",
   "execution_count": 87,
   "metadata": {},
   "outputs": [
    {
     "name": "stdout",
     "output_type": "stream",
     "text": [
      "Recommending 5 products similar to 11...\n",
      "-------\n",
      "Recommended: 6811 (score:0.6638827651810162)\n",
      "Recommended: 15980 (score:0.6590080385338191)\n",
      "Recommended: 1418 (score:0.6340125821934379)\n",
      "Recommended: 1166 (score:0.5975030309152985)\n",
      "Recommended: 6805 (score:0.5947515318108647)\n"
     ]
    }
   ],
   "source": [
    "# Test recommendations\n",
    "recommend(item_id = 11, num = 5)"
   ]
  },
  {
   "cell_type": "markdown",
   "metadata": {},
   "source": [
    "# EVALUATION"
   ]
  },
  {
   "cell_type": "code",
   "execution_count": 132,
   "metadata": {},
   "outputs": [],
   "source": [
    "# function to return recommended placeID\n",
    "def recommend_eval(item_id, num):\n",
    "    recs = results[item_id][:num]   \n",
    "    return [r[1] for r in recs]\n"
   ]
  },
  {
   "cell_type": "code",
   "execution_count": 133,
   "metadata": {},
   "outputs": [],
   "source": [
    "# Calculate hits \n",
    "\n",
    "final=[]\n",
    "hits= 0\n",
    "recs = 0\n",
    "\n",
    "for idx, row in test_poi.iterrows():\n",
    "    #print (\"user\", row['userID'])\n",
    "    try:\n",
    "        rec = recommend_eval(row['placeID'], 10)\n",
    "    except:\n",
    "        continue\n",
    "    test = test_poi.loc[test_poi.userID == row['userID'], \"placeID\"]\n",
    "    hit = len(set(rec).intersection(set(test)))\n",
    "    hits += hit\n",
    "    recs += len(rec)\n"
   ]
  },
  {
   "cell_type": "code",
   "execution_count": 146,
   "metadata": {},
   "outputs": [
    {
     "name": "stdout",
     "output_type": "stream",
     "text": [
      "Precision 0.01304494382022472 \n",
      "Recall 0.05704318773645163 \n",
      "F1-score 0.02123398535019615\n"
     ]
    }
   ],
   "source": [
    "# Precision, Recall, F1-Score\n",
    "print (\"Precision {} \\nRecall {} \\nF1-score {}\" .format(hits/recs, \n",
    "       hits/len(test_poi), \n",
    "       ((2 * (hits/recs) * hits/len(test_poi)) / ((hits/recs)+ hits/len(test_poi)))))"
   ]
  },
  {
   "cell_type": "code",
   "execution_count": null,
   "metadata": {},
   "outputs": [],
   "source": []
  }
 ],
 "metadata": {
  "kernelspec": {
   "display_name": "Python [conda env:aws_neuron_tensorflow_p36]",
   "language": "python",
   "name": "conda-env-aws_neuron_tensorflow_p36-py"
  },
  "language_info": {
   "codemirror_mode": {
    "name": "ipython",
    "version": 3
   },
   "file_extension": ".py",
   "mimetype": "text/x-python",
   "name": "python",
   "nbconvert_exporter": "python",
   "pygments_lexer": "ipython3",
   "version": "3.6.10"
  }
 },
 "nbformat": 4,
 "nbformat_minor": 4
}
